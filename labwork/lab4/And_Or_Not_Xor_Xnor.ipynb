{
 "cells": [
  {
   "cell_type": "markdown",
   "metadata": {},
   "source": [
    "## AND GATE"
   ]
  },
  {
   "cell_type": "code",
   "execution_count": 1,
   "metadata": {},
   "outputs": [
    {
     "name": "stdout",
     "output_type": "stream",
     "text": [
      "('iteration= ', 0, 'cost= ', 0.92443055)\n",
      "('iteration= ', 1000, 'cost= ', 0.58530664)\n",
      "('iteration= ', 2000, 'cost= ', 0.42811805)\n",
      "('iteration= ', 3000, 'cost= ', 0.3417069)\n",
      "('iteration= ', 4000, 'cost= ', 0.28696078)\n",
      "('iteration= ', 5000, 'cost= ', 0.24858247)\n",
      "('iteration= ', 6000, 'cost= ', 0.21981141)\n",
      "('iteration= ', 7000, 'cost= ', 0.19724303)\n",
      "('iteration= ', 8000, 'cost= ', 0.17896523)\n",
      "('iteration= ', 9000, 'cost= ', 0.16380881)\n",
      "('iteration= ', 10000, 'cost= ', 0.15100993)\n",
      "('iteration= ', 11000, 'cost= ', 0.14004454)\n",
      "('iteration= ', 12000, 'cost= ', 0.13053776)\n",
      "Validating output for AND GATE\n",
      "[[ 0.00623364]\n",
      " [ 0.13867456]\n",
      " [ 0.13747253]\n",
      " [ 0.80356979]]\n"
     ]
    }
   ],
   "source": [
    "import tensorflow as tf\n",
    "import numpy as np\n",
    "x=tf.placeholder(tf.float32,shape=[None,2])\n",
    "y=tf.placeholder(tf.float32,shape=[None,1])\n",
    "\n",
    "weights=tf.Variable(tf.random_normal([2,1]),dtype=tf.float32)\n",
    "bias=tf.Variable(tf.random_normal([1]),dtype=tf.float32)\n",
    "\n",
    "\n",
    "\n",
    "multiply1=tf.add(tf.matmul(x,weights),bias)\n",
    "z=tf.nn.sigmoid(multiply1)\n",
    "\n",
    "\n",
    "cost=tf.reduce_mean((y*tf.log(z)+(1-y)*tf.log(1-z))*-1)\n",
    "optimizer = tf.train.GradientDescentOptimizer(0.01).minimize(cost)\n",
    "\n",
    "inp=np.array([[0,0],[0,1],[1,0],[1,1]])\n",
    "op=np.array([[0],[0],[0],[1]])\n",
    "with tf.Session() as sess:\n",
    "   \n",
    "    tf.global_variables_initializer().run()\n",
    "    for i in range(12001):\n",
    "        res,_=sess.run([cost,optimizer],feed_dict={x:inp,y:op})\n",
    "        if i%1000==0:\n",
    "            print (\"iteration= \",i,\"cost= \",res)\n",
    "    print (\"Validating output for AND GATE\")\n",
    "    result=sess.run(z,feed_dict={x:inp})\n",
    "    print (result)"
   ]
  },
  {
   "cell_type": "markdown",
   "metadata": {},
   "source": [
    "## OR GATE"
   ]
  },
  {
   "cell_type": "code",
   "execution_count": 2,
   "metadata": {},
   "outputs": [
    {
     "name": "stdout",
     "output_type": "stream",
     "text": [
      "('iteration= ', 0, 'cost= ', 0.89822304)\n",
      "('iteration= ', 1000, 'cost= ', 0.32833603)\n",
      "('iteration= ', 2000, 'cost= ', 0.25695539)\n",
      "('iteration= ', 3000, 'cost= ', 0.21035433)\n",
      "('iteration= ', 4000, 'cost= ', 0.17733261)\n",
      "('iteration= ', 5000, 'cost= ', 0.15281346)\n",
      "('iteration= ', 6000, 'cost= ', 0.13394251)\n",
      "('iteration= ', 7000, 'cost= ', 0.11900509)\n",
      "('iteration= ', 8000, 'cost= ', 0.10691198)\n",
      "('iteration= ', 9000, 'cost= ', 0.096939087)\n",
      "('iteration= ', 10000, 'cost= ', 0.088586077)\n",
      "('iteration= ', 11000, 'cost= ', 0.081497088)\n",
      "('iteration= ', 12000, 'cost= ', 0.07541199)\n",
      "Validating output for OR GATE\n",
      "[[ 0.15863681]\n",
      " [ 0.93695617]\n",
      " [ 0.9389897 ]\n",
      " [ 0.99917632]]\n"
     ]
    }
   ],
   "source": [
    "import tensorflow as tf\n",
    "import numpy as np\n",
    "x=tf.placeholder(tf.float32,shape=[None,2])\n",
    "y=tf.placeholder(tf.float32,shape=[None,1])\n",
    "\n",
    "weights=tf.Variable(tf.random_normal([2,1]),dtype=tf.float32)\n",
    "bias=tf.Variable(tf.random_normal([1]),dtype=tf.float32)\n",
    "\n",
    "\n",
    "\n",
    "multiply1=tf.add(tf.matmul(x,weights),bias)\n",
    "z=tf.nn.sigmoid(multiply1)\n",
    "\n",
    "\n",
    "cost=tf.reduce_mean((y*tf.log(z)+(1-y)*tf.log(1-z))*-1)\n",
    "optimizer = tf.train.GradientDescentOptimizer(0.01).minimize(cost)\n",
    "\n",
    "inp=np.array([[0,0],[0,1],[1,0],[1,1]])\n",
    "op=np.array([[0],[1],[1],[1]])\n",
    "with tf.Session() as sess:\n",
    "   \n",
    "    tf.global_variables_initializer().run()\n",
    "    for i in range(12001):\n",
    "        res,_=sess.run([cost,optimizer],feed_dict={x:inp,y:op})\n",
    "        if i%1000==0:\n",
    "            print (\"iteration= \",i,\"cost= \",res)\n",
    "    print (\"Validating output for OR GATE\")\n",
    "    result=sess.run(z,feed_dict={x:inp})\n",
    "    print (result)"
   ]
  },
  {
   "cell_type": "markdown",
   "metadata": {},
   "source": [
    "## NOT GATE"
   ]
  },
  {
   "cell_type": "code",
   "execution_count": 3,
   "metadata": {},
   "outputs": [
    {
     "name": "stdout",
     "output_type": "stream",
     "text": [
      "('iteration= ', 0, 'cost= ', 0.64826626)\n",
      "('iteration= ', 1000, 'cost= ', 0.32814068)\n",
      "('iteration= ', 2000, 'cost= ', 0.21877509)\n",
      "('iteration= ', 3000, 'cost= ', 0.16074553)\n",
      "('iteration= ', 4000, 'cost= ', 0.12580545)\n",
      "('iteration= ', 5000, 'cost= ', 0.10280137)\n",
      "('iteration= ', 6000, 'cost= ', 0.086641707)\n",
      "('iteration= ', 7000, 'cost= ', 0.074726321)\n",
      "('iteration= ', 8000, 'cost= ', 0.065606311)\n",
      "('iteration= ', 9000, 'cost= ', 0.058416981)\n",
      "('iteration= ', 10000, 'cost= ', 0.052612931)\n",
      "('iteration= ', 11000, 'cost= ', 0.047834359)\n",
      "('iteration= ', 12000, 'cost= ', 0.043835096)\n",
      "Validating output for NOT GATE\n",
      "[[ 0.94851011]\n",
      " [ 0.03420143]]\n"
     ]
    }
   ],
   "source": [
    "import tensorflow as tf\n",
    "import numpy as np\n",
    "x=tf.placeholder(tf.float32,shape=[None,1])\n",
    "y=tf.placeholder(tf.float32,shape=[None,1])\n",
    "\n",
    "weights=tf.Variable(tf.random_normal([1,1]),dtype=tf.float32)\n",
    "bias=tf.Variable(tf.random_normal([1]),dtype=tf.float32)\n",
    "\n",
    "\n",
    "\n",
    "multiply1=tf.add(tf.matmul(x,weights),bias)\n",
    "z=tf.nn.sigmoid(multiply1)\n",
    "\n",
    "\n",
    "cost=tf.reduce_mean((y*tf.log(z)+(1-y)*tf.log(1-z))*-1)\n",
    "optimizer = tf.train.GradientDescentOptimizer(0.01).minimize(cost)\n",
    "\n",
    "inp=np.array([[0],[1]])\n",
    "op=np.array([[1],[0]])\n",
    "with tf.Session() as sess:\n",
    "   \n",
    "    tf.global_variables_initializer().run()\n",
    "    for i in range(12001):\n",
    "        res,_=sess.run([cost,optimizer],feed_dict={x:inp,y:op})\n",
    "        if i%1000==0:\n",
    "            print (\"iteration= \",i,\"cost= \",res)\n",
    "    print (\"Validating output for NOT GATE\")\n",
    "    result=sess.run(z,feed_dict={x:inp})\n",
    "    print (result)"
   ]
  },
  {
   "cell_type": "markdown",
   "metadata": {},
   "source": [
    "## X-OR"
   ]
  },
  {
   "cell_type": "code",
   "execution_count": 10,
   "metadata": {},
   "outputs": [
    {
     "name": "stdout",
     "output_type": "stream",
     "text": [
      "('Iteration ', 0)\n",
      "('Iteration ', 5000)\n",
      "('Iteration ', 10000)\n",
      "('Iteration ', 15000)\n",
      "('Iteration ', 20000)\n",
      "('Iteration ', 25000)\n",
      "('Iteration ', 30000)\n",
      "('Iteration ', 35000)\n",
      "('Iteration ', 40000)\n",
      "('Iteration ', 45000)\n",
      "('Iteration ', 50000)\n",
      "('Iteration ', 55000)\n",
      "('Iteration ', 60000)\n",
      "('Iteration ', 65000)\n",
      "('Iteration ', 70000)\n",
      "('Iteration ', 75000)\n",
      "('Iteration ', 80000)\n",
      "('Iteration ', 85000)\n",
      "('Iteration ', 90000)\n",
      "('Iteration ', 95000)\n",
      "[[ 0.02173987]\n",
      " [ 0.98282063]\n",
      " [ 0.98290873]\n",
      " [ 0.01905491]]\n"
     ]
    }
   ],
   "source": [
    "import tensorflow as tf\n",
    "\n",
    "x_ = tf.placeholder(tf.float32, shape=[4,2], name=\"x-input\")\n",
    "y_ = tf.placeholder(tf.float32, shape=[4,1], name=\"y-input\")\n",
    "\n",
    "w1 = tf.Variable(tf.random_uniform([2,2], -1, 1), name=\"weight1\")\n",
    "w2 = tf.Variable(tf.random_uniform([2,1], -1, 1), name=\"weight2\")\n",
    "\n",
    "Bias1 = tf.Variable(tf.zeros([2]), name=\"Bias1\")\n",
    "Bias2 = tf.Variable(tf.zeros([1]), name=\"Bias2\")\n",
    "\n",
    "A2 = tf.sigmoid(tf.matmul(x_, w1) + Bias1)\n",
    "z = tf.sigmoid(tf.matmul(A2, w2) + Bias2)\n",
    "\n",
    "cost = tf.reduce_mean(( (y_ * tf.log(z)) + ((1 - y_) * tf.log(1.0 - z)) ) * -1)\n",
    "train_step = tf.train.GradientDescentOptimizer(0.01).minimize(cost)\n",
    "XOR_X = [[0,0],[0,1],[1,0],[1,1]]\n",
    "XOR_Y = [[0],[1],[1],[0]]\n",
    "\n",
    "init = tf.global_variables_initializer()\n",
    "sess = tf.Session()\n",
    "sess.run(init)\n",
    "for i in range(100000):\n",
    "        sess.run(train_step, feed_dict={x_: XOR_X, y_: XOR_Y})\n",
    "        if i % 5000 == 0:\n",
    "            print('Iteration ', i)\n",
    "            result=sess.run(z, feed_dict={x_: XOR_X, y_: XOR_Y})\n",
    "            sess.run(w1)\n",
    "            sess.run(Bias1)\n",
    "            sess.run(w2)\n",
    "            sess.run(Bias2)\n",
    "print(result)"
   ]
  },
  {
   "cell_type": "markdown",
   "metadata": {},
   "source": [
    "## X-NOR"
   ]
  },
  {
   "cell_type": "code",
   "execution_count": 12,
   "metadata": {},
   "outputs": [
    {
     "name": "stdout",
     "output_type": "stream",
     "text": [
      "('Iteration ', 0)\n",
      "('Iteration ', 5000)\n",
      "('Iteration ', 10000)\n",
      "('Iteration ', 15000)\n",
      "('Iteration ', 20000)\n",
      "('Iteration ', 25000)\n",
      "('Iteration ', 30000)\n",
      "('Iteration ', 35000)\n",
      "('Iteration ', 40000)\n",
      "('Iteration ', 45000)\n",
      "('Iteration ', 50000)\n",
      "('Iteration ', 55000)\n",
      "('Iteration ', 60000)\n",
      "('Iteration ', 65000)\n",
      "('Iteration ', 70000)\n",
      "('Iteration ', 75000)\n",
      "('Iteration ', 80000)\n",
      "('Iteration ', 85000)\n",
      "('Iteration ', 90000)\n",
      "('Iteration ', 95000)\n",
      "[[ 0.98335212]\n",
      " [ 0.01550006]\n",
      " [ 0.0217476 ]\n",
      " [ 0.98592818]]\n"
     ]
    }
   ],
   "source": [
    "import tensorflow as tf\n",
    "\n",
    "x_ = tf.placeholder(tf.float32, shape=[4,2], name=\"x-input\")\n",
    "y_ = tf.placeholder(tf.float32, shape=[4,1], name=\"y-input\")\n",
    "\n",
    "w1 = tf.Variable(tf.random_uniform([2,2], -1, 1), name=\"weight1\")\n",
    "w2 = tf.Variable(tf.random_uniform([2,1], -1, 1), name=\"weight2\")\n",
    "\n",
    "Bias1 = tf.Variable(tf.zeros([2]), name=\"Bias1\")\n",
    "Bias2 = tf.Variable(tf.zeros([1]), name=\"Bias2\")\n",
    "\n",
    "A2 = tf.sigmoid(tf.matmul(x_, w1) + Bias1)\n",
    "z = tf.sigmoid(tf.matmul(A2, w2) + Bias2)\n",
    "\n",
    "cost = tf.reduce_mean(( (y_ * tf.log(z)) + ((1 - y_) * tf.log(1.0 - z)) ) * -1)\n",
    "train_step = tf.train.GradientDescentOptimizer(0.01).minimize(cost)\n",
    "XOR_X = [[0,0],[0,1],[1,0],[1,1]]\n",
    "XOR_Y = [[1],[0],[0],[1]]\n",
    "\n",
    "init = tf.global_variables_initializer()\n",
    "sess = tf.Session()\n",
    "sess.run(init)\n",
    "for i in range(100000):\n",
    "        sess.run(train_step, feed_dict={x_: XOR_X, y_: XOR_Y})\n",
    "        if i % 5000 == 0:\n",
    "            print('Iteration ', i)\n",
    "            result=sess.run(z, feed_dict={x_: XOR_X, y_: XOR_Y})\n",
    "            sess.run(w1)\n",
    "            sess.run(Bias1)\n",
    "            sess.run(w2)\n",
    "            sess.run(Bias2)\n",
    "print(result)"
   ]
  },
  {
   "cell_type": "code",
   "execution_count": null,
   "metadata": {
    "collapsed": true
   },
   "outputs": [],
   "source": []
  }
 ],
 "metadata": {
  "kernelspec": {
   "display_name": "Python 2",
   "language": "python",
   "name": "python2"
  },
  "language_info": {
   "codemirror_mode": {
    "name": "ipython",
    "version": 2
   },
   "file_extension": ".py",
   "mimetype": "text/x-python",
   "name": "python",
   "nbconvert_exporter": "python",
   "pygments_lexer": "ipython2",
   "version": "2.7.13"
  }
 },
 "nbformat": 4,
 "nbformat_minor": 2
}
